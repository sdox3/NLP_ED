{
 "cells": [
  {
   "cell_type": "markdown",
   "metadata": {},
   "source": [
    " ### html파일 생성"
   ]
  },
  {
   "cell_type": "code",
   "execution_count": null,
   "metadata": {},
   "outputs": [],
   "source": [
    "#!pip install pyhwp or conda install pyhwp\n",
    "# !hwp5html 변경할 hwp경로    ---> hwp파일과 같은 이름의 폴더 안에 html 생성\n",
    "!hwp5html ./Daejeon.hwp "
   ]
  },
  {
   "cell_type": "markdown",
   "metadata": {},
   "source": [
    "### html파일 파싱 예시"
   ]
  },
  {
   "cell_type": "code",
   "execution_count": 4,
   "metadata": {},
   "outputs": [],
   "source": [
    "from urllib import request\n",
    "from bs4 import BeautifulSoup\n",
    "import html5lib\n",
    "import pandas as pd\n",
    "import os\n",
    "import re\n",
    "path = os.getcwd().replace('\\\\','/')\n",
    "\n",
    "# 저장된 xhtml를 호출\n",
    "url_1 = \"/Daejeon/index.xhtml\"\n",
    "url = 'file:///'+path + url_1\n",
    "\n",
    "with request.urlopen(url) as f:\n",
    "    html = f.read().decode('utf-8')\n",
    "bs = BeautifulSoup(html, 'html.parser')"
   ]
  },
  {
   "cell_type": "code",
   "execution_count": 2,
   "metadata": {},
   "outputs": [],
   "source": [
    "# p 18 ~ p 23 까지 목차\n",
    "# . : class , # : id\n",
    "# 띄어쓰기를 꼭 해야함\n",
    "a = bs.select('body > div .Page > p')  \n",
    "#a = bs.select('body > .Section.Section-0.Paper > div > .Page')"
   ]
  },
  {
   "cell_type": "code",
   "execution_count": null,
   "metadata": {},
   "outputs": [],
   "source": [
    "# 처음 목차가 시작하는 지점을 찾음\n",
    "p = re.compile('목[ ]*차|차[ ]*례|순[ ]*서')\n",
    "s= 0\n",
    "for i in a:\n",
    "    if  len(p.findall(i.text)) != 0:\n",
    "        print(s)\n",
    "        break\n",
    "    s += 1"
   ]
  },
  {
   "cell_type": "code",
   "execution_count": 6,
   "metadata": {},
   "outputs": [
    {
     "name": "stdout",
     "output_type": "stream",
     "text": [
      "목   차 \n",
      "제1장 운영현황 \n",
      " 제1절 운영현황    3 \n",
      "   1.1.1.  119종합상황실 설치규정    3 \n",
      "   1.1.2.  119종합상황실 운영규정 및 연혁    3 \n",
      "   1.1.3.  119종합상황실 주요업무    4 \n",
      "   1.1.4.  근무현황    4 \n",
      "제2장 운영시스템 \n",
      " 제1절 긴급구조표준시스템    7 \n",
      "   2.1.1.  지령운영(신고접수/출동지령/지령접수)    7 \n",
      "   2.1.2.  관제운영(상환관제, 상황운영지원)    8 \n",
      "   2.1.3.  정보지원시스템    9 \n",
      "   2.1.4.  GIS 및 공동시스템    10 \n",
      "   2.1.5.  통계시스템   11 \n",
      "   2.1.6.  녹취시스템   12 \n",
      "   2.1.7.  무선통신제어시스템   13 \n",
      "   2.1.8.  현장영상전송시스템   14 \n",
      "   2.1.9.  시스템 및 운영 안정성 확보   15 \n",
      "   2.1.10. 예비상황실 운영   16 \n",
      " 제2절 기타 운영시스템  17 \n",
      "   2.2.1.  119안전신고센터   17 \n",
      "   2.2.2.  이동전화 위치정보 조회시스템   18 \n",
      "   2.2.3.  화학물질 사고대응정보시스템   19 \n",
      "   2.2.4.  지하공동구 관리시스템   20 \n",
      "   2.2.5.  긴급신고전화 통합시스템   21 \n",
      "   2.2.6.  외국인 119신고접수 처리 운용   22 \n"
     ]
    }
   ],
   "source": [
    "for i in a[s]:\n",
    "    for j in i:\n",
    "        try:\n",
    "            print(j.text)\n",
    "        except: pass"
   ]
  },
  {
   "cell_type": "markdown",
   "metadata": {},
   "source": [
    "### 카테고리 추출\n",
    "\n",
    "* html의 본문을 파싱할 시 사용하는 목차 번호 및 이름을 저장\n"
   ]
  },
  {
   "cell_type": "code",
   "execution_count": null,
   "metadata": {},
   "outputs": [],
   "source": [
    "# 세부카테고리 추출\n",
    "# 범위지정이 아니라 범용적으로 추출할 수 있도록 변경이 필요함\n",
    "\n",
    "# 전체 목차 리스트\n",
    "idx_list_all  = [a[i].select('p')[j].text for i in range(18,24) for j in range(len(a[i].select('p'))) ]\n",
    "\n",
    "# 제 1장 형식을 찾는 정규식\n",
    "p = re.compile('제[0-9]장')\n",
    "\n",
    "# 1.1.1 형식을 찾는 정규식\n",
    "p1= re.compile('[0-9]{1,2}.[0-9]{1,2}.[0-9]{1,2}')"
   ]
  },
  {
   "cell_type": "code",
   "execution_count": 8,
   "metadata": {},
   "outputs": [],
   "source": [
    "# 장과 내부 데이터를 합쳐서 추출\n",
    "ex_list = []\n",
    "for i in idx_list_all:\n",
    "    # 제1장 운영현황 등의 대목차를 추출\n",
    "    if p.search(i):\n",
    "        tmp_c = i.strip().split(' ',1)\n",
    "        \n",
    "    # 1.1.1. 119종합상황실 설치규정 등 목차를 추츨\n",
    "    elif i.find('.') != -1:\n",
    "        # 6.3.1 오타있음 유해화학물질 유출사고 시 상'환'관리요원 표준행동절차 -> 유해화학물질 유출사고 시 상'황'관리요원 표준행동절차\n",
    "        # 6.3.1 뒤에 . 하나가 누락\n",
    "        # 목차 중 한글만 추출\n",
    "        tmp_v = i[i.rfind('.')+2:-6].strip()  \n",
    "        \n",
    "        # 정규식을 통해 1.1.1 형식의 숫자를 추출\n",
    "        tmp_n = p1.findall(i)[0]\n",
    "        \n",
    "        ex_list.append([tmp_c[0],tmp_c[1],tmp_n, tmp_v])\n",
    "        # 6번데 오타있음\n",
    "# input으로 사용할 데이터 값들\n",
    "full_df = pd.DataFrame(ex_list)\n",
    "full_df[4] = full_df[0]+' '+full_df[2]+' '+full_df[3]\n",
    " "
   ]
  },
  {
   "cell_type": "code",
   "execution_count": 9,
   "metadata": {},
   "outputs": [
    {
     "data": {
      "text/html": [
       "<div>\n",
       "<style scoped>\n",
       "    .dataframe tbody tr th:only-of-type {\n",
       "        vertical-align: middle;\n",
       "    }\n",
       "\n",
       "    .dataframe tbody tr th {\n",
       "        vertical-align: top;\n",
       "    }\n",
       "\n",
       "    .dataframe thead th {\n",
       "        text-align: right;\n",
       "    }\n",
       "</style>\n",
       "<table border=\"1\" class=\"dataframe\">\n",
       "  <thead>\n",
       "    <tr style=\"text-align: right;\">\n",
       "      <th></th>\n",
       "      <th>0</th>\n",
       "      <th>1</th>\n",
       "      <th>2</th>\n",
       "      <th>3</th>\n",
       "      <th>4</th>\n",
       "    </tr>\n",
       "  </thead>\n",
       "  <tbody>\n",
       "    <tr>\n",
       "      <th>0</th>\n",
       "      <td>제1장</td>\n",
       "      <td>운영현황</td>\n",
       "      <td>1.1.1</td>\n",
       "      <td>119종합상황실 설치규정</td>\n",
       "      <td>제1장 1.1.1 119종합상황실 설치규정</td>\n",
       "    </tr>\n",
       "    <tr>\n",
       "      <th>1</th>\n",
       "      <td>제1장</td>\n",
       "      <td>운영현황</td>\n",
       "      <td>1.1.2</td>\n",
       "      <td>119종합상황실 운영규정 및 연혁</td>\n",
       "      <td>제1장 1.1.2 119종합상황실 운영규정 및 연혁</td>\n",
       "    </tr>\n",
       "    <tr>\n",
       "      <th>2</th>\n",
       "      <td>제1장</td>\n",
       "      <td>운영현황</td>\n",
       "      <td>1.1.3</td>\n",
       "      <td>119종합상황실 주요업무</td>\n",
       "      <td>제1장 1.1.3 119종합상황실 주요업무</td>\n",
       "    </tr>\n",
       "    <tr>\n",
       "      <th>3</th>\n",
       "      <td>제1장</td>\n",
       "      <td>운영현황</td>\n",
       "      <td>1.1.4</td>\n",
       "      <td>근무현황</td>\n",
       "      <td>제1장 1.1.4 근무현황</td>\n",
       "    </tr>\n",
       "    <tr>\n",
       "      <th>4</th>\n",
       "      <td>제2장</td>\n",
       "      <td>운영시스템</td>\n",
       "      <td>2.1.1</td>\n",
       "      <td>지령운영(신고접수/출동지령/지령접수)</td>\n",
       "      <td>제2장 2.1.1 지령운영(신고접수/출동지령/지령접수)</td>\n",
       "    </tr>\n",
       "    <tr>\n",
       "      <th>...</th>\n",
       "      <td>...</td>\n",
       "      <td>...</td>\n",
       "      <td>...</td>\n",
       "      <td>...</td>\n",
       "      <td>...</td>\n",
       "    </tr>\n",
       "    <tr>\n",
       "      <th>129</th>\n",
       "      <td>제9장</td>\n",
       "      <td>대민지원활동 신고접수</td>\n",
       "      <td>11.4.3</td>\n",
       "      <td>민원처리 결과 입력</td>\n",
       "      <td>제9장 11.4.3 민원처리 결과 입력</td>\n",
       "    </tr>\n",
       "    <tr>\n",
       "      <th>130</th>\n",
       "      <td>제9장</td>\n",
       "      <td>대민지원활동 신고접수</td>\n",
       "      <td>11.4.4</td>\n",
       "      <td>신고일원화 시스템 현황 정비</td>\n",
       "      <td>제9장 11.4.4 신고일원화 시스템 현황 정비</td>\n",
       "    </tr>\n",
       "    <tr>\n",
       "      <th>131</th>\n",
       "      <td>제9장</td>\n",
       "      <td>대민지원활동 신고접수</td>\n",
       "      <td>12.1.1</td>\n",
       "      <td>상황보고체계개요</td>\n",
       "      <td>제9장 12.1.1 상황보고체계개요</td>\n",
       "    </tr>\n",
       "    <tr>\n",
       "      <th>132</th>\n",
       "      <td>제9장</td>\n",
       "      <td>대민지원활동 신고접수</td>\n",
       "      <td>12.1.2</td>\n",
       "      <td>상황보고체계기준</td>\n",
       "      <td>제9장 12.1.2 상황보고체계기준</td>\n",
       "    </tr>\n",
       "    <tr>\n",
       "      <th>133</th>\n",
       "      <td>제9장</td>\n",
       "      <td>대민지원활동 신고접수</td>\n",
       "      <td>12.1.3</td>\n",
       "      <td>중요재난(상황) 등 언론보도 예정대상 보고</td>\n",
       "      <td>제9장 12.1.3 중요재난(상황) 등 언론보도 예정대상 보고</td>\n",
       "    </tr>\n",
       "  </tbody>\n",
       "</table>\n",
       "<p>134 rows × 5 columns</p>\n",
       "</div>"
      ],
      "text/plain": [
       "       0            1       2                        3  \\\n",
       "0    제1장         운영현황   1.1.1            119종합상황실 설치규정   \n",
       "1    제1장         운영현황   1.1.2       119종합상황실 운영규정 및 연혁   \n",
       "2    제1장         운영현황   1.1.3            119종합상황실 주요업무   \n",
       "3    제1장         운영현황   1.1.4                     근무현황   \n",
       "4    제2장        운영시스템   2.1.1     지령운영(신고접수/출동지령/지령접수)   \n",
       "..   ...          ...     ...                      ...   \n",
       "129  제9장  대민지원활동 신고접수  11.4.3               민원처리 결과 입력   \n",
       "130  제9장  대민지원활동 신고접수  11.4.4          신고일원화 시스템 현황 정비   \n",
       "131  제9장  대민지원활동 신고접수  12.1.1                 상황보고체계개요   \n",
       "132  제9장  대민지원활동 신고접수  12.1.2                 상황보고체계기준   \n",
       "133  제9장  대민지원활동 신고접수  12.1.3  중요재난(상황) 등 언론보도 예정대상 보고   \n",
       "\n",
       "                                      4  \n",
       "0               제1장 1.1.1 119종합상황실 설치규정  \n",
       "1          제1장 1.1.2 119종합상황실 운영규정 및 연혁  \n",
       "2               제1장 1.1.3 119종합상황실 주요업무  \n",
       "3                        제1장 1.1.4 근무현황  \n",
       "4        제2장 2.1.1 지령운영(신고접수/출동지령/지령접수)  \n",
       "..                                  ...  \n",
       "129               제9장 11.4.3 민원처리 결과 입력  \n",
       "130          제9장 11.4.4 신고일원화 시스템 현황 정비  \n",
       "131                 제9장 12.1.1 상황보고체계개요  \n",
       "132                 제9장 12.1.2 상황보고체계기준  \n",
       "133  제9장 12.1.3 중요재난(상황) 등 언론보도 예정대상 보고  \n",
       "\n",
       "[134 rows x 5 columns]"
      ]
     },
     "execution_count": 9,
     "metadata": {},
     "output_type": "execute_result"
    }
   ],
   "source": [
    "# 본문을 호출할 index.csv 파일, 추후에 화제유형을 임의로 지정하여 호출\n",
    "full_df  "
   ]
  },
  {
   "cell_type": "code",
   "execution_count": null,
   "metadata": {},
   "outputs": [],
   "source": [
    " \n",
    "full_df.to_csv('./data/index.csv', index = False )"
   ]
  },
  {
   "cell_type": "code",
   "execution_count": null,
   "metadata": {},
   "outputs": [],
   "source": []
  }
 ],
 "metadata": {
  "kernelspec": {
   "display_name": "Python 3",
   "language": "python",
   "name": "python3"
  },
  "language_info": {
   "codemirror_mode": {
    "name": "ipython",
    "version": 3
   },
   "file_extension": ".py",
   "mimetype": "text/x-python",
   "name": "python",
   "nbconvert_exporter": "python",
   "pygments_lexer": "ipython3",
   "version": "3.7.6"
  }
 },
 "nbformat": 4,
 "nbformat_minor": 4
}
